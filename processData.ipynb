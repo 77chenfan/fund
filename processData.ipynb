{
 "cells": [
  {
   "cell_type": "code",
   "execution_count": 2,
   "metadata": {
    "collapsed": true
   },
   "outputs": [],
   "source": [
    "import json\n",
    "import os\n",
    "import pandas as pd"
   ]
  },
  {
   "cell_type": "code",
   "execution_count": 50,
   "metadata": {
    "collapsed": false
   },
   "outputs": [],
   "source": [
    "def loadAllData(code):\n",
    "    files=os.popen(\"ls *%s*.json\"%code)\n",
    "    result=[]\n",
    "    length = len(files.readlines())\n",
    "    for index in range(1,length+1):\n",
    "        dt=json.load(open(\"%s-%d-data.json\"%(code,index)))\n",
    "        data=dt.get(\"Data\").get(\"LSJZList\")\n",
    "        result.extend(data)\n",
    "    #df = pd.DataFrame.from_records(result,index=\"FSRQ\")\n",
    "    df = pd.DataFrame.from_records(result)\n",
    "    return df"
   ]
  },
  {
   "cell_type": "code",
   "execution_count": 51,
   "metadata": {
    "collapsed": false
   },
   "outputs": [
    {
     "data": {
      "text/plain": [
       "<bound method DataFrame.sample of     ACTUALSYI DTYPE    DWJZ FHFCBZ FHFCZ FHSP        FSRQ  JZZZL    LJJZ  \\\n",
       "0              None  1.3920                    2018-05-18  -0.07  1.6580   \n",
       "1              None  1.3930                    2018-05-17  -0.07  1.6590   \n",
       "2              None  1.3940                    2018-05-16   0.00  1.6600   \n",
       "3              None  1.3940                    2018-05-15   0.07  1.6600   \n",
       "4              None  1.3930                    2018-05-14   0.00  1.6590   \n",
       "5              None  1.3930                    2018-05-11  -0.07  1.6590   \n",
       "6              None  1.3940                    2018-05-10   0.07  1.6600   \n",
       "7              None  1.3930                    2018-05-09   0.00  1.6590   \n",
       "8              None  1.3930                    2018-05-08   0.00  1.6590   \n",
       "9              None  1.3930                    2018-05-07   0.07  1.6590   \n",
       "10             None  1.3920                    2018-05-04   0.07  1.6580   \n",
       "11             None  1.3910                    2018-05-03   0.14  1.6570   \n",
       "12             None  1.3890                    2018-05-02   0.14  1.6550   \n",
       "13             None  1.3870                    2018-04-27   0.00  1.6530   \n",
       "14             None  1.3870                    2018-04-26  -0.22  1.6530   \n",
       "15             None  1.3900                    2018-04-25  -0.14  1.6560   \n",
       "16             None  1.3920                    2018-04-24   0.22  1.6580   \n",
       "17             None  1.3890                    2018-04-23  -0.29  1.6550   \n",
       "18             None  1.3930                    2018-04-20  -0.14  1.6590   \n",
       "19             None  1.3950                    2018-04-19   0.07  1.6610   \n",
       "20             None  1.3940                    2018-04-18   0.36  1.6600   \n",
       "21             None  1.3890                    2018-04-17  -0.14  1.6550   \n",
       "22             None  1.3910                    2018-04-16   0.00  1.6570   \n",
       "23             None  1.3910                    2018-04-13   0.00  1.6570   \n",
       "24             None  1.3910                    2018-04-12   0.00  1.6570   \n",
       "25             None  1.3910                    2018-04-11   0.07  1.6570   \n",
       "26             None  1.3900                    2018-04-10   0.07  1.6560   \n",
       "27             None  1.3890                    2018-04-09   0.07  1.6550   \n",
       "28             None  1.3880                    2018-04-04   0.00  1.6540   \n",
       "29             None  1.3880                    2018-04-03   0.00  1.6540   \n",
       "..        ...   ...     ...    ...   ...  ...         ...    ...     ...   \n",
       "520            None  1.2630                    2016-04-01   0.00  1.5290   \n",
       "521            None  1.2630                    2016-03-31   0.00  1.5290   \n",
       "522            None  1.2630                    2016-03-30   0.08  1.5290   \n",
       "523            None  1.2620                    2016-03-29  -0.08  1.5280   \n",
       "524            None  1.2630                    2016-03-28   0.16  1.5290   \n",
       "525            None  1.2610                    2016-03-25  -0.08  1.5270   \n",
       "526            None  1.2620                    2016-03-24   0.00  1.5280   \n",
       "527            None  1.2620                    2016-03-23   0.16  1.5280   \n",
       "528            None  1.2600                    2016-03-22  -0.08  1.5260   \n",
       "529            None  1.2610                    2016-03-21   0.08  1.5270   \n",
       "530            None  1.2600                    2016-03-18   0.08  1.5260   \n",
       "531            None  1.2590                    2016-03-17   0.08  1.5250   \n",
       "532            None  1.2580                    2016-03-16   0.00  1.5240   \n",
       "533            None  1.2580                    2016-03-15   0.08  1.5240   \n",
       "534            None  1.2570                    2016-03-14   0.16  1.5230   \n",
       "535            None  1.2550                    2016-03-11   0.00  1.5210   \n",
       "536            None  1.2550                    2016-03-10   0.08  1.5210   \n",
       "537            None  1.2540                    2016-03-09   0.00  1.5200   \n",
       "538            None  1.2540                    2016-03-08   0.00  1.5200   \n",
       "539            None  1.2540                    2016-03-07   0.24  1.5200   \n",
       "540            None  1.2510                    2016-03-04  -0.08  1.5170   \n",
       "541            None  1.2520                    2016-03-03   0.08  1.5180   \n",
       "542            None  1.2510                    2016-03-02   0.16  1.5170   \n",
       "543            None  1.2490                    2016-03-01   0.08  1.5150   \n",
       "544            None  1.2480                    2016-02-29  -0.16  1.5140   \n",
       "545            None  1.2500                    2016-02-26   0.08  1.5160   \n",
       "546            None  1.2490                    2016-02-25  -0.24  1.5150   \n",
       "547            None  1.2520                    2016-02-24   0.16  1.5180   \n",
       "548            None  1.2500                    2016-02-23  -0.08  1.5160   \n",
       "549            None  1.2510                    2016-02-22   0.16  1.5170   \n",
       "\n",
       "    NAVTYPE SDATE  SGZT  SHZT  \n",
       "0         1  None  开放申购  开放赎回  \n",
       "1         1  None  开放申购  开放赎回  \n",
       "2         1  None  开放申购  开放赎回  \n",
       "3         1  None  开放申购  开放赎回  \n",
       "4         1  None  开放申购  开放赎回  \n",
       "5         1  None  开放申购  开放赎回  \n",
       "6         1  None  开放申购  开放赎回  \n",
       "7         1  None  开放申购  开放赎回  \n",
       "8         1  None  开放申购  开放赎回  \n",
       "9         1  None  开放申购  开放赎回  \n",
       "10        1  None  开放申购  开放赎回  \n",
       "11        1  None  开放申购  开放赎回  \n",
       "12        1  None  开放申购  开放赎回  \n",
       "13        1  None  开放申购  开放赎回  \n",
       "14        1  None  开放申购  开放赎回  \n",
       "15        1  None  开放申购  开放赎回  \n",
       "16        1  None  开放申购  开放赎回  \n",
       "17        1  None  开放申购  开放赎回  \n",
       "18        1  None  开放申购  开放赎回  \n",
       "19        1  None  开放申购  开放赎回  \n",
       "20        1  None  开放申购  开放赎回  \n",
       "21        1  None  开放申购  开放赎回  \n",
       "22        1  None  开放申购  开放赎回  \n",
       "23        1  None  开放申购  开放赎回  \n",
       "24        1  None  开放申购  开放赎回  \n",
       "25        1  None  开放申购  开放赎回  \n",
       "26        1  None  开放申购  开放赎回  \n",
       "27        1  None  开放申购  开放赎回  \n",
       "28        1  None  开放申购  开放赎回  \n",
       "29        1  None  开放申购  开放赎回  \n",
       "..      ...   ...   ...   ...  \n",
       "520       1  None  开放申购  开放赎回  \n",
       "521       1  None  开放申购  开放赎回  \n",
       "522       1  None  开放申购  开放赎回  \n",
       "523       1  None  开放申购  开放赎回  \n",
       "524       1  None  开放申购  开放赎回  \n",
       "525       1  None  开放申购  开放赎回  \n",
       "526       1  None  开放申购  开放赎回  \n",
       "527       1  None  开放申购  开放赎回  \n",
       "528       1  None  开放申购  开放赎回  \n",
       "529       1  None  开放申购  开放赎回  \n",
       "530       1  None  开放申购  开放赎回  \n",
       "531       1  None  开放申购  开放赎回  \n",
       "532       1  None  开放申购  开放赎回  \n",
       "533       1  None  开放申购  开放赎回  \n",
       "534       1  None  开放申购  开放赎回  \n",
       "535       1  None  开放申购  开放赎回  \n",
       "536       1  None  开放申购  开放赎回  \n",
       "537       1  None  开放申购  开放赎回  \n",
       "538       1  None  开放申购  开放赎回  \n",
       "539       1  None  开放申购  开放赎回  \n",
       "540       1  None  开放申购  开放赎回  \n",
       "541       1  None  开放申购  开放赎回  \n",
       "542       1  None  开放申购  开放赎回  \n",
       "543       1  None  开放申购  开放赎回  \n",
       "544       1  None  开放申购  开放赎回  \n",
       "545       1  None  开放申购  开放赎回  \n",
       "546       1  None  开放申购  开放赎回  \n",
       "547       1  None  开放申购  开放赎回  \n",
       "548       1  None  开放申购  开放赎回  \n",
       "549       1  None  开放申购  开放赎回  \n",
       "\n",
       "[550 rows x 13 columns]>"
      ]
     },
     "execution_count": 51,
     "metadata": {},
     "output_type": "execute_result"
    }
   ],
   "source": [
    "data=loadAllData(\"020019\")\n",
    "data.sample"
   ]
  },
  {
   "cell_type": "code",
   "execution_count": 53,
   "metadata": {
    "collapsed": false
   },
   "outputs": [
    {
     "data": {
      "text/plain": [
       "550"
      ]
     },
     "execution_count": 53,
     "metadata": {},
     "output_type": "execute_result"
    }
   ],
   "source": [
    "len(data)"
   ]
  },
  {
   "cell_type": "code",
   "execution_count": null,
   "metadata": {
    "collapsed": false,
    "scrolled": true
   },
   "outputs": [],
   "source": [
    "#按月定投，时间从1号到30号\n",
    "def automaticInvestmentPlan(data):\n",
    "    "
   ]
  }
 ],
 "metadata": {
  "kernelspec": {
   "display_name": "Python [Root]",
   "language": "python",
   "name": "Python [Root]"
  },
  "language_info": {
   "codemirror_mode": {
    "name": "ipython",
    "version": 2
   },
   "file_extension": ".py",
   "mimetype": "text/x-python",
   "name": "python",
   "nbconvert_exporter": "python",
   "pygments_lexer": "ipython2",
   "version": "2.7.12"
  }
 },
 "nbformat": 4,
 "nbformat_minor": 0
}
