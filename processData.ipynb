{
 "cells": [
  {
   "cell_type": "code",
   "execution_count": 1,
   "metadata": {
    "collapsed": true
   },
   "outputs": [],
   "source": [
    "import json\n",
    "import os\n",
    "import pandas as pd"
   ]
  },
  {
   "cell_type": "code",
   "execution_count": 2,
   "metadata": {
    "collapsed": false
   },
   "outputs": [],
   "source": [
    "def loadAllData(code):\n",
    "    files=os.popen(\"ls *%s*.json\"%code)\n",
    "    result=[]\n",
    "    length = len(files.readlines())\n",
    "    for index in range(1,length+1):\n",
    "        dt=json.load(open(\"%s-%d-data.json\"%(code,index)))\n",
    "        data=dt.get(\"Data\").get(\"LSJZList\")\n",
    "        result.extend(data)\n",
    "    #df = pd.DataFrame.from_records(result,index=\"FSRQ\")\n",
    "    df = pd.DataFrame.from_records(result)\n",
    "    return df"
   ]
  },
  {
   "cell_type": "code",
   "execution_count": 36,
   "metadata": {
    "collapsed": true
   },
   "outputs": [],
   "source": [
    "def format(ele,eletype,default):\n",
    "    ty= type(eletype)\n",
    "    if(ty == float):\n",
    "        if(ele!=\"\"):\n",
    "            return float(ele)\n",
    "        else:\n",
    "            return default"
   ]
  },
  {
   "cell_type": "code",
   "execution_count": 3,
   "metadata": {
    "collapsed": false
   },
   "outputs": [
    {
     "data": {
      "text/plain": [
       "<bound method DataFrame.sample of     ACTUALSYI DTYPE    DWJZ FHFCBZ FHFCZ FHSP        FSRQ  JZZZL    LJJZ  \\\n",
       "0              None  2.0398                    2018-05-23  -0.53  2.3748   \n",
       "1              None  2.0507                    2018-05-22  -0.06  2.3857   \n",
       "2              None  2.0520                    2018-05-21   1.72  2.3870   \n",
       "3              None  2.0173                    2018-05-18   1.00  2.3523   \n",
       "4              None  1.9974                    2018-05-17  -0.41  2.3324   \n",
       "5              None  2.0056                    2018-05-16   0.40  2.3406   \n",
       "6              None  1.9976                    2018-05-15   1.28  2.3326   \n",
       "7              None  1.9724                    2018-05-14  -0.43  2.3074   \n",
       "8              None  1.9810                    2018-05-11  -0.72  2.3160   \n",
       "9              None  1.9954                    2018-05-10   0.87  2.3304   \n",
       "10             None  1.9782                    2018-05-09   0.55  2.3132   \n",
       "11             None  1.9674                    2018-05-08   0.46  2.3024   \n",
       "12             None  1.9583                    2018-05-07   1.84  2.2933   \n",
       "13             None  1.9229                    2018-05-04  -0.44  2.2579   \n",
       "14             None  1.9314                    2018-05-03   1.86  2.2664   \n",
       "15             None  1.8961                    2018-05-02   0.06  2.2311   \n",
       "16             None  1.8950                    2018-04-27   0.16  2.2300   \n",
       "17             None  1.8919                    2018-04-26  -1.30  2.2269   \n",
       "18             None  1.9168                    2018-04-25  -0.39  2.2518   \n",
       "19             None  1.9244                    2018-04-24   2.39  2.2594   \n",
       "20             None  1.8794                    2018-04-23  -1.42  2.2144   \n",
       "21             None  1.9065                    2018-04-20  -1.87  2.2415   \n",
       "22             None  1.9428                    2018-04-19   0.80  2.2778   \n",
       "23             None  1.9274                    2018-04-18   1.09  2.2624   \n",
       "24             None  1.9066                    2018-04-17  -2.52  2.2416   \n",
       "25             None  1.9559                    2018-04-16  -0.72  2.2909   \n",
       "26             None  1.9701                    2018-04-13  -0.58  2.3051   \n",
       "27             None  1.9815                    2018-04-12  -0.98  2.3165   \n",
       "28             None  2.0011                    2018-04-11   1.31  2.3361   \n",
       "29             None  1.9753                    2018-04-10  -0.04  2.3103   \n",
       "..        ...   ...     ...    ...   ...  ...         ...    ...     ...   \n",
       "520            None  1.5700                    2016-04-07  -1.43  1.9050   \n",
       "521            None  1.5928                    2016-04-06   0.31  1.9278   \n",
       "522            None  1.5878                    2016-04-05   1.27  1.9228   \n",
       "523            None  1.5679                    2016-04-01  -0.86  1.9029   \n",
       "524            None  1.5815                    2016-03-31   0.62  1.9165   \n",
       "525            None  1.5717                    2016-03-30   1.72  1.9067   \n",
       "526            None  1.5451                    2016-03-29  -1.65  1.8801   \n",
       "527            None  1.5711                    2016-03-28   0.93  1.9061   \n",
       "528            None  1.5567                    2016-03-25   1.03  1.8917   \n",
       "529            None  1.5408                    2016-03-24  -0.08  1.8758   \n",
       "530            None  1.5421                    2016-03-23   0.23  1.8771   \n",
       "531            None  1.5385                    2016-03-22   1.42  1.8735   \n",
       "532            None  1.5169                    2016-03-21   2.16  1.8519   \n",
       "533            None  1.4849                    2016-03-18   2.69  1.8199   \n",
       "534            None  1.4460                    2016-03-17   2.35  1.7810   \n",
       "535            None  1.4128                    2016-03-16  -1.29  1.7478   \n",
       "536            None  1.4313                    2016-03-15  -1.15  1.7663   \n",
       "537            None  1.4479                    2016-03-14   3.22  1.7829   \n",
       "538            None  1.4028                    2016-03-11  -0.78  1.7378   \n",
       "539            None  1.4138                    2016-03-10  -0.12  1.7488   \n",
       "540            None  1.4155                    2016-03-09  -2.18  1.7505   \n",
       "541            None  1.4470                    2016-03-08  -1.27  1.7820   \n",
       "542            None  1.4656                    2016-03-07   2.00  1.8006   \n",
       "543            None  1.4369                    2016-03-04  -0.18  1.7719   \n",
       "544            None  1.4395                    2016-03-03   0.40  1.7745   \n",
       "545            None  1.4338                    2016-03-02   3.78  1.7688   \n",
       "546            None  1.3816                    2016-03-01   2.49  1.7166   \n",
       "547            None  1.3481                    2016-02-29  -2.09  1.6831   \n",
       "548            None  1.3769                    2016-02-26   1.22  1.7119   \n",
       "549            None  1.3603                    2016-02-25  -5.57  1.6953   \n",
       "\n",
       "    NAVTYPE SDATE  SGZT  SHZT  \n",
       "0         1  None  开放申购  开放赎回  \n",
       "1         1  None  开放申购  开放赎回  \n",
       "2         1  None  开放申购  开放赎回  \n",
       "3         1  None  开放申购  开放赎回  \n",
       "4         1  None  开放申购  开放赎回  \n",
       "5         1  None  开放申购  开放赎回  \n",
       "6         1  None  开放申购  开放赎回  \n",
       "7         1  None  开放申购  开放赎回  \n",
       "8         1  None  开放申购  开放赎回  \n",
       "9         1  None  开放申购  开放赎回  \n",
       "10        1  None  开放申购  开放赎回  \n",
       "11        1  None  开放申购  开放赎回  \n",
       "12        1  None  开放申购  开放赎回  \n",
       "13        1  None  开放申购  开放赎回  \n",
       "14        1  None  开放申购  开放赎回  \n",
       "15        1  None  开放申购  开放赎回  \n",
       "16        1  None  开放申购  开放赎回  \n",
       "17        1  None  开放申购  开放赎回  \n",
       "18        1  None  开放申购  开放赎回  \n",
       "19        1  None  开放申购  开放赎回  \n",
       "20        1  None  开放申购  开放赎回  \n",
       "21        1  None  开放申购  开放赎回  \n",
       "22        1  None  开放申购  开放赎回  \n",
       "23        1  None  开放申购  开放赎回  \n",
       "24        1  None  开放申购  开放赎回  \n",
       "25        1  None  开放申购  开放赎回  \n",
       "26        1  None  开放申购  开放赎回  \n",
       "27        1  None  开放申购  开放赎回  \n",
       "28        1  None  开放申购  开放赎回  \n",
       "29        1  None  开放申购  开放赎回  \n",
       "..      ...   ...   ...   ...  \n",
       "520       1  None  开放申购  开放赎回  \n",
       "521       1  None  开放申购  开放赎回  \n",
       "522       1  None  开放申购  开放赎回  \n",
       "523       1  None  开放申购  开放赎回  \n",
       "524       1  None  开放申购  开放赎回  \n",
       "525       1  None  开放申购  开放赎回  \n",
       "526       1  None  开放申购  开放赎回  \n",
       "527       1  None  开放申购  开放赎回  \n",
       "528       1  None  开放申购  开放赎回  \n",
       "529       1  None  开放申购  开放赎回  \n",
       "530       1  None  开放申购  开放赎回  \n",
       "531       1  None  开放申购  开放赎回  \n",
       "532       1  None  开放申购  开放赎回  \n",
       "533       1  None  开放申购  开放赎回  \n",
       "534       1  None  开放申购  开放赎回  \n",
       "535       1  None  开放申购  开放赎回  \n",
       "536       1  None  开放申购  开放赎回  \n",
       "537       1  None  开放申购  开放赎回  \n",
       "538       1  None  开放申购  开放赎回  \n",
       "539       1  None  开放申购  开放赎回  \n",
       "540       1  None  开放申购  开放赎回  \n",
       "541       1  None  开放申购  开放赎回  \n",
       "542       1  None  开放申购  开放赎回  \n",
       "543       1  None  开放申购  开放赎回  \n",
       "544       1  None  开放申购  开放赎回  \n",
       "545       1  None  开放申购  开放赎回  \n",
       "546       1  None  开放申购  开放赎回  \n",
       "547       1  None  开放申购  开放赎回  \n",
       "548       1  None  开放申购  开放赎回  \n",
       "549       1  None  开放申购  开放赎回  \n",
       "\n",
       "[550 rows x 13 columns]>"
      ]
     },
     "execution_count": 3,
     "metadata": {},
     "output_type": "execute_result"
    }
   ],
   "source": [
    "data=loadAllData(\"420003\")\n",
    "data.sample"
   ]
  },
  {
   "cell_type": "code",
   "execution_count": 37,
   "metadata": {
    "collapsed": false
   },
   "outputs": [],
   "source": [
    "def getUpandDown(data):\n",
    "    result=[]\n",
    "    flag=1\n",
    "    num=1\n",
    "    for d in range(len(data)):\n",
    "        det=format(data.get_value(d,\"JZZZL\"),1.0,0.0)\n",
    "        if(det * flag>0):\n",
    "            num=num+flag\n",
    "        else:\n",
    "            flag=-1*flag\n",
    "            result.append(num)\n",
    "            num=0\n",
    "    return result"
   ]
  },
  {
   "cell_type": "code",
   "execution_count": 38,
   "metadata": {
    "collapsed": false
   },
   "outputs": [
    {
     "name": "stdout",
     "output_type": "stream",
     "text": [
      "6\n",
      "-6\n"
     ]
    }
   ],
   "source": [
    "result=getUpandDown(data)\n",
    "print max(result)\n",
    "print min(result)"
   ]
  },
  {
   "cell_type": "code",
   "execution_count": 6,
   "metadata": {
    "collapsed": false,
    "scrolled": true
   },
   "outputs": [
    {
     "name": "stdout",
     "output_type": "stream",
     "text": [
      "2597.1324\n",
      "9.61900888889\n",
      "27000\n"
     ]
    },
    {
     "data": {
      "text/plain": [
       "2597.1323999999986"
      ]
     },
     "execution_count": 6,
     "metadata": {},
     "output_type": "execute_result"
    }
   ],
   "source": [
    "Money=1000\n",
    "#按月定投，时间从1号到30号\n",
    "def automaticInvestmentPlan(data):\n",
    "    length = len(data)\n",
    "    N=21\n",
    "    i=length-1\n",
    "    Num=0\n",
    "    Time=0\n",
    "    while(i>0):\n",
    "        det= int(Money/float(data.get_value(i,\"LJJZ\")))\n",
    "        #print data.get_value(i,\"FSRQ\")\n",
    "        Num=Num+det\n",
    "        Time=Time+1\n",
    "        i=i-N\n",
    "    v=float(data.get_value(0,\"LJJZ\"))\n",
    "    det=Num* v -Time*1000\n",
    "    print det\n",
    "    print det/(Time*1000)*100\n",
    "    print Time*1000\n",
    "    return det\n",
    "automaticInvestmentPlan(data)"
   ]
  }
 ],
 "metadata": {
  "anaconda-cloud": {},
  "kernelspec": {
   "display_name": "Python [Root]",
   "language": "python",
   "name": "Python [Root]"
  },
  "language_info": {
   "codemirror_mode": {
    "name": "ipython",
    "version": 2
   },
   "file_extension": ".py",
   "mimetype": "text/x-python",
   "name": "python",
   "nbconvert_exporter": "python",
   "pygments_lexer": "ipython2",
   "version": "2.7.12"
  }
 },
 "nbformat": 4,
 "nbformat_minor": 0
}
